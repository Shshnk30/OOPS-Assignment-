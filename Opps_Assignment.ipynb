{
  "nbformat": 4,
  "nbformat_minor": 0,
  "metadata": {
    "colab": {
      "provenance": []
    },
    "kernelspec": {
      "name": "python3",
      "display_name": "Python 3"
    },
    "language_info": {
      "name": "python"
    }
  },
  "cells": [
    {
      "cell_type": "markdown",
      "source": [
        "Answer-1 the five key OOP concepts:\n",
        "\n",
        "Class: A template or blueprint to create objects. It defines what data and actions the objects will have.\n",
        "\n",
        "Object: A specific example of a class, like a car built from a car blueprint. Each object has its own data and actions.\n",
        "\n",
        "Encapsulation: Keeping an object’s data safe by controlling access to it, like keeping certain details private so only specific parts of a program can change them.\n",
        "\n",
        "Inheritance: When one class takes on the properties and actions of another class, like a child inheriting traits from a parent.\n",
        "\n",
        "Polymorphism: One action can work in different ways depending on the object, like pressing the same \"play\" button on different media players but getting different behaviors.\n",
        "\n",
        "These concepts help make programming more organized and easier to manage."
      ],
      "metadata": {
        "id": "oNwkaGWxrNUN"
      }
    },
    {
      "cell_type": "code",
      "source": [
        "#Answer-2\n",
        "\n",
        "class Car:\n",
        "    def __init__(self, make, model, year):\n",
        "        self.make = make\n",
        "        self.model = model\n",
        "        self.year = year\n",
        "\n",
        "    def display_info(self):\n",
        "        print(f\"Car Info: {self.year} {self.make} {self.model}\")\n",
        "\n",
        "# Example usage:\n",
        "my_car = Car(\"Toyota\", \"Corolla\", 2020)\n",
        "my_car.display_info()\n"
      ],
      "metadata": {
        "colab": {
          "base_uri": "https://localhost:8080/"
        },
        "id": "tTScQU7frSnx",
        "outputId": "c750649d-21f1-42db-8352-20a8d0f425dd"
      },
      "execution_count": 1,
      "outputs": [
        {
          "output_type": "stream",
          "name": "stdout",
          "text": [
            "Car Info: 2020 Toyota Corolla\n"
          ]
        }
      ]
    },
    {
      "cell_type": "code",
      "source": [
        "#Answer-3\n",
        "\n",
        "#Instance Methods:\n",
        "\n",
        "#1- Work on individual objects (instances) of a class.\n",
        "#2- Use self to access the object’s attributes.\n",
        "\n",
        "class Dog:\n",
        "    def bark(self):\n",
        "        print(\"Woof!\")\n",
        "\n",
        "dog = Dog()\n",
        "dog.bark()  # Calls the instance method\n",
        "\n",
        "#Class Methods:\n",
        "\n",
        "#Work on the class itself, not individual objects.\n",
        "#Use cls to access class-level data.\n",
        "#Use the @classmethod decorator.\n",
        "\n",
        "class Dog:\n",
        "    species = \"Canine\"\n",
        "\n",
        "    @classmethod\n",
        "    def get_species(cls):\n",
        "        return cls.species\n",
        "\n",
        "print(Dog.get_species())  # Calls the class method\n",
        "\n"
      ],
      "metadata": {
        "colab": {
          "base_uri": "https://localhost:8080/"
        },
        "id": "8G3xJtQjrmEE",
        "outputId": "b7ef0d66-6be1-4459-9275-3011f104ecba"
      },
      "execution_count": 2,
      "outputs": [
        {
          "output_type": "stream",
          "name": "stdout",
          "text": [
            "Woof!\n",
            "Canine\n"
          ]
        }
      ]
    },
    {
      "cell_type": "code",
      "source": [
        "#Answer-4\n",
        "\n",
        "#Python doesn't support method overloading directly. Instead, it handles multiple arguments using:\n",
        "\n",
        "#Default Arguments\n",
        "\n",
        "class Calculator:\n",
        "    def add(self, a, b=0):\n",
        "        return a + b\n",
        "\n",
        "calc = Calculator()\n",
        "print(calc.add(5))      # Output: 5\n",
        "print(calc.add(5, 10))  # Output: 15\n",
        "\n",
        "#Variable Arguments(*args):\n",
        "\n",
        "class Printer:\n",
        "    def print_msg(self, *msgs):\n",
        "        for msg in msgs:\n",
        "            print(msg)\n",
        "\n",
        "# Usage:\n",
        "p = Printer()\n",
        "p.print_msg(\"Hello\")                 # Output: Hello\n",
        "p.print_msg(\"Hello\", \"World\")        # Output: Hello World\n",
        "p.print_msg(\"Hi\", \"There\", \"Friend\") # Output: Hi There Friend\n",
        "\n",
        "\n"
      ],
      "metadata": {
        "colab": {
          "base_uri": "https://localhost:8080/"
        },
        "id": "hbxbS9AZsLs3",
        "outputId": "d783f541-e2cd-459c-beea-1d94ace9ea85"
      },
      "execution_count": 8,
      "outputs": [
        {
          "output_type": "stream",
          "name": "stdout",
          "text": [
            "5\n",
            "15\n",
            "Hello\n",
            "Hello\n",
            "World\n",
            "Hi\n",
            "There\n",
            "Friend\n"
          ]
        }
      ]
    },
    {
      "cell_type": "code",
      "source": [
        "#Answer-5\n",
        "\n",
        "#Public: Accessible from anywhere, no underscore.\n",
        "#Example: self.name\n",
        "#Protected: Meant for internal use or subclasses, single underscore (_).\n",
        "#Example: self._age\n",
        "#Private: Only accessible within the class, double underscore (__).\n",
        "#Example: self.__salary"
      ],
      "metadata": {
        "id": "hjfjH0D8slU_"
      },
      "execution_count": 9,
      "outputs": []
    },
    {
      "cell_type": "code",
      "source": [
        "#Answer-6\n",
        "\n",
        "#Single Inheritance: One subclass inherits from one superclass.\n",
        "\n",
        "class Animal: pass\n",
        "class Dog(Animal): pass\n",
        "\n",
        "#Multiple Inheritance: One subclass inherits from multiple superclasses.\n",
        "\n",
        "class Canine: pass\n",
        "class Pet: pass\n",
        "class Dog(Canine, Pet): pass\n",
        "\n",
        "#Multilevel Inheritance: A subclass inherits from another subclass.\n",
        "\n",
        "class Animal: pass\n",
        "class Mammal(Animal): pass\n",
        "class Dog(Mammal): pass\n",
        "\n",
        "#Hierarchical Inheritance: Multiple subclasses inherit from one superclass.\n",
        "\n",
        "class Animal: pass\n",
        "class Dog(Animal): pass\n",
        "class Cat(Animal): pass\n",
        "\n",
        "#Hybrid Inheritance: Combination of two or more types of inheritance.\n",
        "\n",
        "class Animal: pass\n",
        "class Mammal(Animal): pass\n",
        "class Bird(Animal): pass\n",
        "class Bat(Mammal, Bird): pass\n",
        "\n",
        "#Example of Multiple Inheritance:\n",
        "\n",
        "class Canine:\n",
        "    def bark(self):\n",
        "        return \"Woof!\"\n",
        "\n",
        "class Pet:\n",
        "    def play(self):\n",
        "        return \"Playing!\"\n",
        "\n",
        "class Dog(Canine, Pet): pass\n",
        "\n",
        "# Usage\n",
        "dog = Dog()\n",
        "print(dog.bark())  # Woof!\n",
        "print(dog.play())  # Playing!"
      ],
      "metadata": {
        "colab": {
          "base_uri": "https://localhost:8080/"
        },
        "id": "7gg_j6B9tYY_",
        "outputId": "be69ec30-2bea-4870-b90a-458bfc7c04a7"
      },
      "execution_count": 10,
      "outputs": [
        {
          "output_type": "stream",
          "name": "stdout",
          "text": [
            "Woof!\n",
            "Playing!\n"
          ]
        }
      ]
    },
    {
      "cell_type": "code",
      "source": [
        "#Answer-7\n",
        "\n",
        "#Method Resolution Order (MRO) in Python determines the order in which classes are searched for methods, especially in multiple inheritance scenarios.\n",
        "\n",
        "#Retrieving MRO\n",
        "#You can get the MRO using the __mro__ attribute or the mro() method.\n",
        "\n",
        "class A: pass\n",
        "class B(A): pass\n",
        "class C(A): pass\n",
        "class D(B, C): pass\n",
        "\n",
        "# Retrieve MRO\n",
        "print(D.__mro__)   # Output: (<class '__main__.D'>, <class '__main__.B'>, <class '__main__.C'>, <class '__main__.A'>, <class 'object'>)\n",
        "print(D.mro())     # Output: [<class '__main__.D'>, <class '__main__.B'>, <class '__main__.C'>, <class '__main__.A'>, <class 'object'>]"
      ],
      "metadata": {
        "colab": {
          "base_uri": "https://localhost:8080/"
        },
        "id": "5gHnhj1wt-M6",
        "outputId": "d2bbf71f-2b4a-4808-d44e-fbfe7716c9a8"
      },
      "execution_count": 11,
      "outputs": [
        {
          "output_type": "stream",
          "name": "stdout",
          "text": [
            "(<class '__main__.D'>, <class '__main__.B'>, <class '__main__.C'>, <class '__main__.A'>, <class 'object'>)\n",
            "[<class '__main__.D'>, <class '__main__.B'>, <class '__main__.C'>, <class '__main__.A'>, <class 'object'>]\n"
          ]
        }
      ]
    },
    {
      "cell_type": "code",
      "source": [
        "#Answer-8\n",
        " #the code using an abstract base class Shape with subclasses Circle and Rectangle:\n",
        "\n",
        "from abc import ABC, abstractmethod\n",
        "import math\n",
        "\n",
        "# Abstract base class\n",
        "class Shape(ABC):\n",
        "    #abstractmethod\n",
        "    def area(self):\n",
        "        pass\n",
        "\n",
        "# Circle subclass\n",
        "class Circle(Shape):\n",
        "    def __init__(self, radius):\n",
        "        self.radius = radius\n",
        "\n",
        "    def area(self):\n",
        "        return math.pi * (self.radius ** 2)\n",
        "\n",
        "# Rectangle subclass\n",
        "class Rectangle(Shape):\n",
        "    def __init__(self, width, height):\n",
        "        self.width = width\n",
        "        self.height = height\n",
        "\n",
        "    def area(self):\n",
        "        return self.width * self.height\n",
        "\n",
        "# Example usage\n",
        "circle = Circle(5)\n",
        "rectangle = Rectangle(4, 6)\n",
        "\n",
        "print(\"Circle Area:\", circle.area())      # Output: Circle Area: 78.53981633974483\n",
        "print(\"Rectangle Area:\", rectangle.area()) # Output: Rectangle Area: 24"
      ],
      "metadata": {
        "colab": {
          "base_uri": "https://localhost:8080/"
        },
        "id": "QY-Xdqa9ulGl",
        "outputId": "5ae0beea-6c2a-4944-b5ef-1b65684a40e4"
      },
      "execution_count": 25,
      "outputs": [
        {
          "output_type": "stream",
          "name": "stdout",
          "text": [
            "Circle Area: 78.53981633974483\n",
            "Rectangle Area: 24\n"
          ]
        }
      ]
    },
    {
      "cell_type": "code",
      "source": [
        "#Answer-9\n",
        "from abc import ABC, abstractmethod\n",
        "import math\n",
        "\n",
        "# Abstract base class\n",
        "class Shape(ABC):\n",
        "    @abstractmethod\n",
        "    def area(self):\n",
        "        pass\n",
        "\n",
        "# Circle subclass\n",
        "class Circle(Shape):\n",
        "    def __init__(self, radius):\n",
        "        self.radius = radius\n",
        "\n",
        "    def area(self):\n",
        "        return math.pi * (self.radius ** 2)\n",
        "\n",
        "# Rectangle subclass\n",
        "class Rectangle(Shape):\n",
        "    def __init__(self, width, height):\n",
        "        self.width = width\n",
        "        self.height = height\n",
        "\n",
        "    def area(self):\n",
        "        return self.width * self.height\n",
        "\n",
        "# Function to calculate and print area\n",
        "def print_area(shape):\n",
        "    print(f\"Area: {shape.area()}\")\n",
        "\n",
        "# Example usage\n",
        "circle = Circle(5)\n",
        "rectangle = Rectangle(4, 6)\n",
        "\n",
        "print_area(circle)     # Output: Area: 78.53981633974483\n",
        "print_area(rectangle)  # Output: Area: 24\n",
        "\n"
      ],
      "metadata": {
        "colab": {
          "base_uri": "https://localhost:8080/"
        },
        "id": "CqRF4wPivKnS",
        "outputId": "a6a54675-2c5e-4bb2-af17-61a111fe2e68"
      },
      "execution_count": 23,
      "outputs": [
        {
          "output_type": "stream",
          "name": "stdout",
          "text": [
            "Area: 78.53981633974483\n",
            "Area: 24\n"
          ]
        }
      ]
    },
    {
      "cell_type": "code",
      "source": [
        "#Answer-10\n",
        "#The implementation of encapsulation in a BankAccount\n",
        "#class with private attributes for balance and account_number. The class includes methods for depositing, withdrawing, and inquiring the balance.\n",
        "\n",
        "class BankAccount:\n",
        "    def __init__(self, account_number, initial_balance=0):\n",
        "        self.__account_number = account_number  # Private attribute\n",
        "        self.__balance = initial_balance          # Private attribute\n",
        "\n",
        "    def deposit(self, amount):\n",
        "        if amount > 0:\n",
        "            self.__balance += amount\n",
        "            print(f\"Deposited: {amount}\")\n",
        "        else:\n",
        "            print(\"Deposit amount must be positive.\")\n",
        "\n",
        "    def withdraw(self, amount):\n",
        "        if 0 < amount <= self.__balance:\n",
        "            self.__balance -= amount\n",
        "            print(f\"Withdrew: {amount}\")\n",
        "        else:\n",
        "            print(\"Insufficient funds or invalid amount.\")\n",
        "\n",
        "    def get_balance(self):\n",
        "        return self.__balance\n",
        "\n",
        "    def get_account_number(self):\n",
        "        return self.__account_number\n",
        "\n",
        "# Example usage\n",
        "account = BankAccount(\"123456789\", 1000)\n",
        "\n",
        "account.deposit(500)                  # Output: Deposited: 500\n",
        "account.withdraw(200)                 # Output: Withdrew: 200\n",
        "print(\"Balance:\", account.get_balance())  # Output: Balance: 1300\n",
        "print(\"Account Number:\", account.get_account_number())  # Output: Account Number: 123456789\n",
        "\n",
        "#Explanation:\n",
        "#Encapsulation: The attributes __account_number and __balance are private, meaning they cannot be accessed directly from outside the class.\n",
        "\n",
        "#Methods:\n",
        "#deposit(amount): Adds money to the account.\n",
        "#withdraw(amount): Subtracts money from the account if sufficient funds are available.\n",
        "#get_balance(): Returns the current balance.\n",
        "#get_account_number(): Returns the account number.\n",
        "#This implementation ensures that the account's balance and number are protected from direct modification, allowing only controlled access through methods.\n"
      ],
      "metadata": {
        "colab": {
          "base_uri": "https://localhost:8080/"
        },
        "id": "Hen8roi4zO8K",
        "outputId": "c953ea08-dca2-4a71-c9f0-7b37db494175"
      },
      "execution_count": 26,
      "outputs": [
        {
          "output_type": "stream",
          "name": "stdout",
          "text": [
            "Deposited: 500\n",
            "Withdrew: 200\n",
            "Balance: 1300\n",
            "Account Number: 123456789\n"
          ]
        }
      ]
    },
    {
      "cell_type": "code",
      "source": [
        "#Answer-11\n",
        "\n",
        "#Below are the version of a class that overrides the __str__ and __add__ magic methods:\n",
        "\n",
        "class Vector:\n",
        "    def __init__(self, x, y):\n",
        "        self.x = x\n",
        "        self.y = y\n",
        "\n",
        "    def __str__(self):\n",
        "        return f\"Vector({self.x}, {self.y})\"  # String representation\n",
        "\n",
        "    def __add__(self, other):\n",
        "        if isinstance(other, Vector):\n",
        "            return Vector(self.x + other.x, self.y + other.y)  # Add vectors\n",
        "        return NotImplemented\n",
        "\n",
        "# Example usage\n",
        "v1 = Vector(2, 3)\n",
        "v2 = Vector(5, 7)\n",
        "\n",
        "print(v1)                # Output: Vector(2, 3)\n",
        "print(v2)                # Output: Vector(5, 7)\n",
        "\n",
        "v3 = v1 + v2            # Adds two vectors\n",
        "print(v3)                # Output: Vector(7, 10)\n",
        "\n",
        "#Key Points:\n",
        "#__str__: Provides a nice string representation of the object (e.g., Vector(2, 3)).\n",
        "#__add__: Allows you to use the + operator to add two Vector instances together, returning a new Vector.\n",
        "#This makes the class user-friendly and easy to work with!"
      ],
      "metadata": {
        "colab": {
          "base_uri": "https://localhost:8080/"
        },
        "id": "39uJWi5Dz1hz",
        "outputId": "ccd510ab-42b7-4999-e7fe-fca3442282e9"
      },
      "execution_count": 27,
      "outputs": [
        {
          "output_type": "stream",
          "name": "stdout",
          "text": [
            "Vector(2, 3)\n",
            "Vector(5, 7)\n",
            "Vector(7, 10)\n"
          ]
        }
      ]
    },
    {
      "cell_type": "code",
      "source": [
        "#Answer-12\n",
        "\n",
        "#Here is implementation of a decorator that measures and prints the execution time of a function:\n",
        "\n",
        "import time\n",
        "\n",
        "def timing_decorator(func):\n",
        "    def wrapper(*args, **kwargs):\n",
        "        start_time = time.time()  # Start time\n",
        "        result = func(*args, **kwargs)  # Call the function\n",
        "        end_time = time.time()  # End time\n",
        "        print(f\"Execution time of {func.__name__}: {end_time - start_time:.4f} seconds\")\n",
        "        return result\n",
        "    return wrapper\n",
        "\n",
        "# Example usage\n",
        "@timing_decorator\n",
        "def slow_function():\n",
        "    time.sleep(2)  # Simulate delay\n",
        "    return \"Done!\"\n",
        "\n",
        "result = slow_function()  # Output: Execution time of slow_function: 2.0001 seconds\n",
        "print(result)             # Output: Done!\n"
      ],
      "metadata": {
        "colab": {
          "base_uri": "https://localhost:8080/"
        },
        "id": "Vnc_pqvU0Utr",
        "outputId": "081a5dbb-a968-4fdc-a8db-6a6b142ce5d6"
      },
      "execution_count": 29,
      "outputs": [
        {
          "output_type": "stream",
          "name": "stdout",
          "text": [
            "Execution time of slow_function: 2.0021 seconds\n",
            "Done!\n"
          ]
        }
      ]
    },
    {
      "cell_type": "code",
      "source": [
        "#Answer-13\n",
        "\n",
        "#Diamond Problem Explained\n",
        "#The Diamond Problem occurs in multiple inheritance when a class inherits from two classes that have a common parent. This can create confusion about which parent class's method should be used.\n",
        "\n",
        "      #A\n",
        "     #/ \\\n",
        "    #B   C\n",
        "     #\\ /\n",
        "     # D\n",
        "\n",
        "#Class A is the top class.\n",
        "#Class B and Class C both inherit from Class A.\n",
        "#Class D inherits from both Class B and Class C.\n",
        "\n",
        "#Problem\n",
        "#When you call a method from Class D, it’s unclear whether to use the method from Class B or Class C because they both inherit from Class A.\n",
        "\n",
        "#How Python Solves It\n",
        "#Python uses a rule called Method Resolution Order (MRO) to figure out which method to use. It checks the classes in the order they are listed in the class definition.\n",
        "\n",
        "class A:\n",
        "    def greet(self):\n",
        "        return \"Hello from A\"\n",
        "\n",
        "class B(A):\n",
        "    def greet(self):\n",
        "        return \"Hello from B\"\n",
        "\n",
        "class C(A):\n",
        "    def greet(self):\n",
        "        return \"Hello from C\"\n",
        "\n",
        "class D(B, C):\n",
        "    pass\n",
        "\n",
        "# Example usage\n",
        "d = D()\n",
        "print(d.greet())  # Output: Hello from B\n",
        "\n",
        "#Summary\n",
        "#The Diamond Problem creates confusion about which method to use when a class inherits from two classes that share a parent.\n",
        "#Python resolves this by following a specific order (MRO) to determine which method to call, favoring the first class listed in the inheritance. In this case, Class B's greet() method is used.\n"
      ],
      "metadata": {
        "colab": {
          "base_uri": "https://localhost:8080/"
        },
        "id": "KiT9Fa5n0rKt",
        "outputId": "38e3876f-0129-48fc-fe73-1d693bd1db9c"
      },
      "execution_count": 34,
      "outputs": [
        {
          "output_type": "stream",
          "name": "stdout",
          "text": [
            "Hello from B\n"
          ]
        }
      ]
    },
    {
      "cell_type": "code",
      "source": [
        "#Answer-14\n",
        "\n",
        "class InstanceCounter:\n",
        "    count = 0  # Class variable to track instances\n",
        "\n",
        "    def __init__(self):\n",
        "        InstanceCounter.count += 1  # Increment count on instance creation\n",
        "\n",
        "    @classmethod\n",
        "    def get_instance_count(cls):\n",
        "        return cls.count  # Return the instance count\n",
        "\n",
        "# Example usage\n",
        "obj1 = InstanceCounter()\n",
        "obj2 = InstanceCounter()\n",
        "obj3 = InstanceCounter()\n",
        "\n",
        "print(\"Number of instances created:\", InstanceCounter.get_instance_count())  # Output: 3\n",
        "\n",
        "#Key Points:\n",
        "#count: Class variable that keeps track of instances.\n",
        "#__init__: Increments count whenever a new instance is created.\n",
        "#get_instance_count(): Class method to retrieve the total number of instances created."
      ],
      "metadata": {
        "colab": {
          "base_uri": "https://localhost:8080/"
        },
        "id": "WrIcSIbx0_UI",
        "outputId": "36779423-caa4-46ab-a4e5-e6cc3a767606"
      },
      "execution_count": 35,
      "outputs": [
        {
          "output_type": "stream",
          "name": "stdout",
          "text": [
            "Number of instances created: 3\n"
          ]
        }
      ]
    },
    {
      "cell_type": "code",
      "source": [
        "#Answer-15\n",
        "\n",
        "class YearUtils:\n",
        "    @staticmethod\n",
        "    def is_leap_year(year):\n",
        "        # A leap year is divisible by 4, but not divisible by 100, except when it is divisible by 400\n",
        "        return (year % 4 == 0 and year % 100 != 0) or (year % 400 == 0)\n",
        "\n",
        "# Example usage\n",
        "year = 2024\n",
        "if YearUtils.is_leap_year(year):\n",
        "    print(f\"{year} is a leap year.\")  # Output: 2024 is a leap year.\n",
        "else:\n",
        "    print(f\"{year} is not a leap year.\")\n",
        "\n",
        "\n",
        "#Static Method: is_leap_year is defined with the @staticmethod decorator, allowing it to be called on the class without creating an instance.\n",
        "#Leap Year Logic: The method checks if the year is a leap year based on the conditions:\n",
        "#Divisible by 4.\n",
        "#Not divisible by 100, unless it is also divisible by 400."
      ],
      "metadata": {
        "colab": {
          "base_uri": "https://localhost:8080/"
        },
        "id": "ag-QpC2Y2D0d",
        "outputId": "ec0fed65-de5a-44c2-84c5-98d5255b70ae"
      },
      "execution_count": 36,
      "outputs": [
        {
          "output_type": "stream",
          "name": "stdout",
          "text": [
            "2024 is a leap year.\n"
          ]
        }
      ]
    },
    {
      "cell_type": "code",
      "source": [],
      "metadata": {
        "id": "pf4N4Jwf2Vwu"
      },
      "execution_count": null,
      "outputs": []
    }
  ]
}